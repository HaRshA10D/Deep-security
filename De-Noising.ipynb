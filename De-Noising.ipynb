{
 "cells": [
  {
   "cell_type": "code",
   "execution_count": 1,
   "metadata": {
    "collapsed": true
   },
   "outputs": [],
   "source": [
    "import numpy as np\n",
    "X_adv = np.load('Adv_samples_1.npy')"
   ]
  },
  {
   "cell_type": "code",
   "execution_count": 2,
   "metadata": {},
   "outputs": [
    {
     "data": {
      "text/plain": [
       "(22544, 123)"
      ]
     },
     "execution_count": 2,
     "metadata": {},
     "output_type": "execute_result"
    }
   ],
   "source": [
    "X_adv.shape"
   ]
  },
  {
   "cell_type": "code",
   "execution_count": 3,
   "metadata": {
    "collapsed": true
   },
   "outputs": [],
   "source": [
    "X_test_scaled = np.load('X_test_scaled.npy')\n",
    "Y_test = np.load('y_test.npy')"
   ]
  },
  {
   "cell_type": "code",
   "execution_count": 4,
   "metadata": {},
   "outputs": [
    {
     "name": "stdout",
     "output_type": "stream",
     "text": [
      "(22544, 123) (22544, 5)\n"
     ]
    }
   ],
   "source": [
    "print(X_test_scaled.shape, Y_test.shape)"
   ]
  },
  {
   "cell_type": "code",
   "execution_count": 5,
   "metadata": {},
   "outputs": [
    {
     "name": "stderr",
     "output_type": "stream",
     "text": [
      "c:\\programdata\\anaconda3\\envs\\tensorflow-gpu\\lib\\site-packages\\sklearn\\cross_validation.py:44: DeprecationWarning: This module was deprecated in version 0.18 in favor of the model_selection module into which all the refactored classes and functions are moved. Also note that the interface of the new CV iterators are different from that of this module. This module will be removed in 0.20.\n",
      "  \"This module will be removed in 0.20.\", DeprecationWarning)\n"
     ]
    }
   ],
   "source": [
    "from sklearn.cross_validation import train_test_split\n",
    "X_train, X_test, y_train, y_test = train_test_split(X_adv, X_test_scaled, test_size=0.2, random_state=4)"
   ]
  },
  {
   "cell_type": "code",
   "execution_count": 6,
   "metadata": {},
   "outputs": [
    {
     "name": "stderr",
     "output_type": "stream",
     "text": [
      "Using TensorFlow backend.\n"
     ]
    }
   ],
   "source": [
    "from keras.layers import Input, Dense \n",
    "from keras.models import Model, load_model"
   ]
  },
  {
   "cell_type": "code",
   "execution_count": 7,
   "metadata": {
    "collapsed": true
   },
   "outputs": [],
   "source": [
    "encoding_dim = 64\n",
    "input_dim = X_adv.shape[-1]"
   ]
  },
  {
   "cell_type": "code",
   "execution_count": 8,
   "metadata": {},
   "outputs": [
    {
     "data": {
      "text/plain": [
       "123"
      ]
     },
     "execution_count": 8,
     "metadata": {},
     "output_type": "execute_result"
    }
   ],
   "source": [
    "input_dim"
   ]
  },
  {
   "cell_type": "code",
   "execution_count": 9,
   "metadata": {
    "collapsed": true
   },
   "outputs": [],
   "source": [
    "def auto_encoder_model(input_dim, encoding_dim) :\n",
    "    \n",
    "    input_layer = Input(shape = (input_dim,))\n",
    "    \n",
    "    encoder = Dense(encoding_dim, activation = 'tanh')(input_layer)\n",
    "    encoder = Dense(int(encoding_dim/2), activation=\"relu\")(encoder)\n",
    "    \n",
    "    decoder = Dense(int(encoding_dim/2), activation='tanh')(encoder)\n",
    "    decoder = Dense(input_dim, activation='relu')(decoder)\n",
    "    \n",
    "    autoencoder = Model(inputs=input_layer, outputs=decoder)\n",
    "    \n",
    "    autoencoder.compile(optimizer='adam', loss='mean_squared_error', metrics=['accuracy'])\n",
    "    \n",
    "    autoencoder.summary()\n",
    "    return autoencoder\n"
   ]
  },
  {
   "cell_type": "code",
   "execution_count": 10,
   "metadata": {},
   "outputs": [
    {
     "name": "stdout",
     "output_type": "stream",
     "text": [
      "_________________________________________________________________\n",
      "Layer (type)                 Output Shape              Param #   \n",
      "=================================================================\n",
      "input_1 (InputLayer)         (None, 123)               0         \n",
      "_________________________________________________________________\n",
      "dense_1 (Dense)              (None, 64)                7936      \n",
      "_________________________________________________________________\n",
      "dense_2 (Dense)              (None, 32)                2080      \n",
      "_________________________________________________________________\n",
      "dense_3 (Dense)              (None, 32)                1056      \n",
      "_________________________________________________________________\n",
      "dense_4 (Dense)              (None, 123)               4059      \n",
      "=================================================================\n",
      "Total params: 15,131\n",
      "Trainable params: 15,131\n",
      "Non-trainable params: 0\n",
      "_________________________________________________________________\n"
     ]
    }
   ],
   "source": [
    "denoiser = auto_encoder_model(input_dim, encoding_dim)"
   ]
  },
  {
   "cell_type": "code",
   "execution_count": 11,
   "metadata": {},
   "outputs": [
    {
     "name": "stdout",
     "output_type": "stream",
     "text": [
      "Train on 18035 samples, validate on 4509 samples\n",
      "Epoch 1/20\n",
      "18035/18035 [==============================] - 4s 232us/step - loss: 0.0244 - acc: 0.0963 - val_loss: 0.0089 - val_acc: 0.1519\n",
      "Epoch 2/20\n",
      "18035/18035 [==============================] - 1s 71us/step - loss: 0.0067 - acc: 0.1458 - val_loss: 0.0055 - val_acc: 0.1007\n",
      "Epoch 3/20\n",
      "18035/18035 [==============================] - 1s 74us/step - loss: 0.0050 - acc: 0.1012 - val_loss: 0.0046 - val_acc: 0.1060\n",
      "Epoch 4/20\n",
      "18035/18035 [==============================] - 1s 79us/step - loss: 0.0042 - acc: 0.1335 - val_loss: 0.0040 - val_acc: 0.1138\n",
      "Epoch 5/20\n",
      "18035/18035 [==============================] - 1s 76us/step - loss: 0.0038 - acc: 0.1346 - val_loss: 0.0038 - val_acc: 0.1016\n",
      "Epoch 6/20\n",
      "18035/18035 [==============================] - 2s 90us/step - loss: 0.0036 - acc: 0.1493 - val_loss: 0.0036 - val_acc: 0.1000\n",
      "Epoch 7/20\n",
      "18035/18035 [==============================] - 2s 88us/step - loss: 0.0035 - acc: 0.1497 - val_loss: 0.0035 - val_acc: 0.1464\n",
      "Epoch 8/20\n",
      "18035/18035 [==============================] - 1s 70us/step - loss: 0.0034 - acc: 0.1554 - val_loss: 0.0035 - val_acc: 0.1131\n",
      "Epoch 9/20\n",
      "18035/18035 [==============================] - 1s 70us/step - loss: 0.0033 - acc: 0.1571 - val_loss: 0.0034 - val_acc: 0.1524\n",
      "Epoch 10/20\n",
      "18035/18035 [==============================] - 1s 70us/step - loss: 0.0033 - acc: 0.1599 - val_loss: 0.0034 - val_acc: 0.1340\n",
      "Epoch 11/20\n",
      "18035/18035 [==============================] - 1s 68us/step - loss: 0.0029 - acc: 0.1556 - val_loss: 0.0027 - val_acc: 0.1284\n",
      "Epoch 12/20\n",
      "18035/18035 [==============================] - 1s 65us/step - loss: 0.0026 - acc: 0.1554 - val_loss: 0.0026 - val_acc: 0.1989\n",
      "Epoch 13/20\n",
      "18035/18035 [==============================] - 1s 65us/step - loss: 0.0025 - acc: 0.1483 - val_loss: 0.0026 - val_acc: 0.1663\n",
      "Epoch 14/20\n",
      "18035/18035 [==============================] - 1s 67us/step - loss: 0.0025 - acc: 0.1475 - val_loss: 0.0026 - val_acc: 0.1677\n",
      "Epoch 15/20\n",
      "18035/18035 [==============================] - 1s 69us/step - loss: 0.0025 - acc: 0.1453 - val_loss: 0.0026 - val_acc: 0.0976\n",
      "Epoch 16/20\n",
      "18035/18035 [==============================] - 1s 65us/step - loss: 0.0025 - acc: 0.1488 - val_loss: 0.0025 - val_acc: 0.1462\n",
      "Epoch 17/20\n",
      "18035/18035 [==============================] - 1s 66us/step - loss: 0.0024 - acc: 0.1443 - val_loss: 0.0025 - val_acc: 0.0656\n",
      "Epoch 18/20\n",
      "18035/18035 [==============================] - 1s 68us/step - loss: 0.0024 - acc: 0.1434 - val_loss: 0.0025 - val_acc: 0.1708\n",
      "Epoch 19/20\n",
      "18035/18035 [==============================] - 1s 70us/step - loss: 0.0024 - acc: 0.1418 - val_loss: 0.0025 - val_acc: 0.1348\n",
      "Epoch 20/20\n",
      "18035/18035 [==============================] - 1s 67us/step - loss: 0.0024 - acc: 0.1404 - val_loss: 0.0025 - val_acc: 0.1375\n"
     ]
    },
    {
     "data": {
      "text/plain": [
       "<keras.callbacks.History at 0x2cadd268320>"
      ]
     },
     "execution_count": 11,
     "metadata": {},
     "output_type": "execute_result"
    }
   ],
   "source": [
    "denoiser.fit(X_train, y_train, epochs=20, batch_size=128, validation_data = (X_test, y_test), )"
   ]
  },
  {
   "cell_type": "code",
   "execution_count": 12,
   "metadata": {},
   "outputs": [
    {
     "name": "stdout",
     "output_type": "stream",
     "text": [
      "Loaded model from disk\n"
     ]
    }
   ],
   "source": [
    "from keras.models import model_from_json\n",
    "json_file = open('model.json', 'r')\n",
    "loaded_model_json = json_file.read()\n",
    "json_file.close()\n",
    "loaded_model = model_from_json(loaded_model_json)\n",
    "loaded_model.load_weights(\"model.h5\")\n",
    "print(\"Loaded model from disk\")"
   ]
  },
  {
   "cell_type": "code",
   "execution_count": 13,
   "metadata": {},
   "outputs": [],
   "source": [
    "loaded_model.compile(loss='categorical_crossentropy', optimizer='adam', metrics=['accuracy'])"
   ]
  },
  {
   "cell_type": "code",
   "execution_count": 14,
   "metadata": {},
   "outputs": [],
   "source": [
    "X_test_pred = loaded_model.predict_classes(X_test_scaled)"
   ]
  },
  {
   "cell_type": "code",
   "execution_count": 15,
   "metadata": {},
   "outputs": [],
   "source": [
    "from keras.utils import np_utils\n",
    "X_test_pred = np_utils.to_categorical(X_test_pred)"
   ]
  },
  {
   "cell_type": "code",
   "execution_count": 16,
   "metadata": {},
   "outputs": [
    {
     "name": "stdout",
     "output_type": "stream",
     "text": [
      "[[ 0.  1.  0.  0.  0.]\n",
      " [ 0.  1.  0.  0.  0.]\n",
      " [ 1.  0.  0.  0.  0.]\n",
      " ..., \n",
      " [ 0.  1.  0.  0.  0.]\n",
      " [ 1.  0.  0.  0.  0.]\n",
      " [ 0.  0.  1.  0.  0.]]\n"
     ]
    }
   ],
   "source": [
    "print(X_test_pred)"
   ]
  },
  {
   "cell_type": "code",
   "execution_count": 17,
   "metadata": {},
   "outputs": [
    {
     "name": "stdout",
     "output_type": "stream",
     "text": [
      "0.837961320085\n"
     ]
    }
   ],
   "source": [
    "from sklearn.metrics import accuracy_score\n",
    "accuracy_test = accuracy_score(Y_test, X_test_pred)\n",
    "print(accuracy_test)"
   ]
  },
  {
   "cell_type": "code",
   "execution_count": 18,
   "metadata": {
    "collapsed": true
   },
   "outputs": [],
   "source": [
    "X_adv_pred = loaded_model.predict_classes(X_adv)"
   ]
  },
  {
   "cell_type": "code",
   "execution_count": 19,
   "metadata": {
    "collapsed": true
   },
   "outputs": [],
   "source": [
    "X_adv_pred = np_utils.to_categorical(X_adv_pred)"
   ]
  },
  {
   "cell_type": "code",
   "execution_count": 20,
   "metadata": {},
   "outputs": [
    {
     "name": "stdout",
     "output_type": "stream",
     "text": [
      "0.540942157559\n"
     ]
    }
   ],
   "source": [
    "accuracy_adv = accuracy_score(Y_test, X_adv_pred)\n",
    "print(accuracy_adv)"
   ]
  },
  {
   "cell_type": "code",
   "execution_count": 21,
   "metadata": {
    "collapsed": true
   },
   "outputs": [],
   "source": [
    "X_adv_denoised = denoiser.predict(X_adv)"
   ]
  },
  {
   "cell_type": "code",
   "execution_count": 22,
   "metadata": {},
   "outputs": [
    {
     "data": {
      "text/plain": [
       "(22544, 123)"
      ]
     },
     "execution_count": 22,
     "metadata": {},
     "output_type": "execute_result"
    }
   ],
   "source": [
    "X_adv_denoised.shape"
   ]
  },
  {
   "cell_type": "code",
   "execution_count": 23,
   "metadata": {},
   "outputs": [
    {
     "data": {
      "text/plain": [
       "array([[ 0.        ,  0.        ,  0.        , ...,  0.        ,\n",
       "         0.        ,  0.98536086],\n",
       "       [ 0.        ,  0.        ,  0.        , ...,  0.        ,\n",
       "         0.        ,  0.99815893],\n",
       "       [ 0.        ,  0.        ,  0.        , ...,  1.0247333 ,\n",
       "         0.        ,  0.        ],\n",
       "       ..., \n",
       "       [ 0.        ,  0.        ,  0.        , ...,  1.0076071 ,\n",
       "         0.        ,  0.71454358],\n",
       "       [ 0.        ,  0.        ,  0.        , ...,  0.99055123,\n",
       "         0.        ,  0.        ],\n",
       "       [ 0.        ,  0.        ,  0.        , ...,  0.        ,\n",
       "         0.        ,  0.        ]], dtype=float32)"
      ]
     },
     "execution_count": 23,
     "metadata": {},
     "output_type": "execute_result"
    }
   ],
   "source": [
    "X_adv_denoised"
   ]
  },
  {
   "cell_type": "code",
   "execution_count": 24,
   "metadata": {},
   "outputs": [],
   "source": [
    "X_adv_denoised_pred = loaded_model.predict_classes(X_adv_denoised)"
   ]
  },
  {
   "cell_type": "code",
   "execution_count": 25,
   "metadata": {},
   "outputs": [
    {
     "name": "stdout",
     "output_type": "stream",
     "text": [
      "(22544, 5)\n"
     ]
    }
   ],
   "source": [
    "X_adv_denoised_pred = np_utils.to_categorical(X_adv_denoised_pred, num_classes = 5)\n",
    "print(X_adv_denoised_pred.shape)"
   ]
  },
  {
   "cell_type": "code",
   "execution_count": 26,
   "metadata": {},
   "outputs": [
    {
     "name": "stdout",
     "output_type": "stream",
     "text": [
      "0.830952803407\n"
     ]
    }
   ],
   "source": [
    "accuracy_denoised_adv = accuracy_score(Y_test, X_adv_denoised_pred)\n",
    "print(accuracy_denoised_adv)"
   ]
  },
  {
   "cell_type": "code",
   "execution_count": null,
   "metadata": {
    "collapsed": true
   },
   "outputs": [],
   "source": []
  }
 ],
 "metadata": {
  "kernelspec": {
   "display_name": "Python 3",
   "language": "python",
   "name": "python3"
  },
  "language_info": {
   "codemirror_mode": {
    "name": "ipython",
    "version": 3
   },
   "file_extension": ".py",
   "mimetype": "text/x-python",
   "name": "python",
   "nbconvert_exporter": "python",
   "pygments_lexer": "ipython3",
   "version": "3.5.3"
  }
 },
 "nbformat": 4,
 "nbformat_minor": 2
}
